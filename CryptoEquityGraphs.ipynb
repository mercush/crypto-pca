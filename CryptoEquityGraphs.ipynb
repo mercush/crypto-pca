{
 "cells": [
  {
   "cell_type": "code",
   "execution_count": 6,
   "metadata": {},
   "outputs": [],
   "source": [
    "import os\n",
    "import numpy as np\n",
    "import pandas as pd\n",
    "import numpy.linalg as LA"
   ]
  },
  {
   "cell_type": "code",
   "execution_count": 7,
   "metadata": {},
   "outputs": [],
   "source": [
    "import matplotlib.pyplot as plt"
   ]
  },
  {
   "cell_type": "code",
   "execution_count": 21,
   "metadata": {},
   "outputs": [],
   "source": [
    "from kneed import KneeLocator\n",
    "from sklearn.datasets import make_blobs\n",
    "from sklearn.cluster import KMeans\n",
    "from sklearn.metrics import silhouette_score\n",
    "from sklearn.preprocessing import StandardScaler"
   ]
  },
  {
   "cell_type": "code",
   "execution_count": 1,
   "metadata": {},
   "outputs": [],
   "source": [
    "from tqdm import tqdm"
   ]
  },
  {
   "cell_type": "code",
   "execution_count": 2,
   "metadata": {},
   "outputs": [],
   "source": [
    "tqdm.pandas()"
   ]
  },
  {
   "cell_type": "code",
   "execution_count": 3,
   "metadata": {},
   "outputs": [],
   "source": [
    "pj = os.path.join"
   ]
  },
  {
   "cell_type": "markdown",
   "metadata": {},
   "source": [
    "\n",
    "set *root* to your root folder where the csv file is\n",
    "csv file can be downloaded from https://www.federalreserve.gov/data/nominal-yield-curve.htm\n"
   ]
  },
  {
   "cell_type": "code",
   "execution_count": 4,
   "metadata": {},
   "outputs": [],
   "source": [
    "root = '/Users/mauriciobarba/repos/crypto-pca'"
   ]
  },
  {
   "cell_type": "code",
   "execution_count": 8,
   "metadata": {},
   "outputs": [],
   "source": [
    "crypto_files = {i[:-10]: pd.read_csv(pj(root, 'crypto-data', i)) for i in os.listdir(pj(root,'crypto-data')) if i.endswith('.csv')}\n",
    "equity_files = {i[:-4]: pd.read_csv(pj(root, 'equity-data', i)) for i in os.listdir(pj(root,'equity-data')) if i.endswith('.csv')}\n"
   ]
  },
  {
   "cell_type": "code",
   "execution_count": 9,
   "metadata": {},
   "outputs": [
    {
     "name": "stdout",
     "output_type": "stream",
     "text": [
      "          SOL       UNI      LUNA      AVAX       ADA       BTC       DOT  \\\n",
      "1   -0.025510 -0.023256 -0.031250 -0.016432  0.000000  0.013767  0.021127   \n",
      "2   -0.062827 -0.057823  0.000000 -0.014320  0.000000 -0.006458 -0.004598   \n",
      "3   -0.061453 -0.021661 -0.032258  0.004843 -0.090909  0.003024  0.083141   \n",
      "4    0.023810  0.040590  0.033333 -0.004819  0.000000  0.045510 -0.002132   \n",
      "5   -0.116279 -0.053191  0.000000 -0.014528  0.000000 -0.027256 -0.068376   \n",
      "..        ...       ...       ...       ...       ...       ...       ...   \n",
      "360 -0.015514 -0.019646 -0.012962 -0.014215 -0.013889  0.007051 -0.023499   \n",
      "361 -0.006291  0.023969  0.055882  0.027578 -0.004695  0.040306  0.006806   \n",
      "362  0.122834  0.000000  0.132575  0.048939  0.033019  0.026657  0.075567   \n",
      "363  0.076651  0.003070 -0.041822  0.026756 -0.018265 -0.055806 -0.034792   \n",
      "364  0.046387 -0.015302  0.000000  0.069870  0.009302 -0.024173  0.017907   \n",
      "\n",
      "          ETH       BNB      DOGE  \n",
      "1    0.007508 -0.001307       NaN  \n",
      "2   -0.014079 -0.016034       NaN  \n",
      "3   -0.031465  0.034586       NaN  \n",
      "4    0.025802  0.015108       NaN  \n",
      "5   -0.036305 -0.037999       NaN  \n",
      "..        ...       ...       ...  \n",
      "360 -0.026361  0.030514  0.041667  \n",
      "361  0.035167  0.007465  0.000000  \n",
      "362  0.073501  0.029760  0.000000  \n",
      "363 -0.022841 -0.060483 -0.040000  \n",
      "364 -0.020651  0.000000  0.000000  \n",
      "\n",
      "[364 rows x 10 columns]\n"
     ]
    }
   ],
   "source": [
    "crypto_data = {}\n",
    "for i in crypto_files:\n",
    "    crypto_data[i] = crypto_files[i]['Price ($)']\n",
    "\n",
    "equity_data = {}\n",
    "for i in equity_files:\n",
    "    equity_data[i] = equity_files[i]['Close']\n",
    "crypto_df = pd.DataFrame(crypto_data)\n",
    "equity_df = pd.DataFrame(equity_data)\n",
    "crypto_df = crypto_df.pct_change().drop(0, axis=0)\n",
    "equity_df = equity_df.pct_change().drop(0, axis=0)\n",
    "\n",
    "print(crypto_df)"
   ]
  },
  {
   "cell_type": "code",
   "execution_count": 16,
   "metadata": {},
   "outputs": [
    {
     "data": {
      "text/plain": [
       "Text(0, 0.5, 'Standard Deviation')"
      ]
     },
     "execution_count": 16,
     "metadata": {},
     "output_type": "execute_result"
    },
    {
     "data": {
      "image/png": "[encoded data removed]",
      "text/plain": [
       "<Figure size 432x288 with 1 Axes>"
      ]
     },
     "metadata": {
      "needs_background": "light"
     },
     "output_type": "display_data"
    }
   ],
   "source": [
    "crypto_means = crypto_df.replace(np.inf,np.nan).mean()\n",
    "crypto_sd = crypto_df.replace(np.inf,np.nan).std()\n",
    "equity_means = equity_df.replace(np.inf,np.nan).mean()\n",
    "equity_sd = equity_df.replace(np.inf,np.nan).std()\n",
    "\n",
    "plt.plot(equity_means,equity_sd,'ro')\n",
    "plt.plot(crypto_means,crypto_sd,'bo')\n",
    "plt.xlabel('Mean')\n",
    "plt.ylabel('Standard Deviation')"
   ]
  },
  {
   "cell_type": "code",
   "execution_count": 56,
   "metadata": {},
   "outputs": [
    {
     "data": {
      "text/plain": [
       "[<matplotlib.lines.Line2D at 0x12de826a0>]"
      ]
     },
     "execution_count": 56,
     "metadata": {},
     "output_type": "execute_result"
    },
    {
     "data": {
      "image/png": "[encoded data removed]",
      "text/plain": [
       "<Figure size 432x288 with 1 Axes>"
      ]
     },
     "metadata": {
      "needs_background": "light"
     },
     "output_type": "display_data"
    }
   ],
   "source": [
    "kmeans = KMeans(\n",
    "    init=\"random\",\n",
    "    n_clusters=2,\n",
    "    n_init=10,\n",
    "    max_iter=300,\n",
    "    random_state=42\n",
    ")\n",
    "\n",
    "kmeans.fit(list(zip(crypto_means,crypto_sd))+list(zip(equity_means,equity_sd)))\n",
    "plt.plot(*zip(np.transpose(kmeans.cluster_centers_)),\"go\")\n",
    "plt.plot(equity_means,equity_sd,'ro')\n",
    "plt.plot(crypto_means,crypto_sd,'bo')"
   ]
  },
  {
   "cell_type": "markdown",
   "metadata": {},
   "source": [
    "K-means clustering doesn't work well on this dataset because the standard deviation of the crypto points is much higher than that of the equity points."
   ]
  },
  {
   "cell_type": "markdown",
   "metadata": {},
   "source": [
    "Let's look at applying some of these algorithms to some fundamentals."
   ]
  },
  {
   "cell_type": "code",
   "execution_count": null,
   "metadata": {},
   "outputs": [],
   "source": []
  }
 ],
 "metadata": {
  "interpreter": {
   "hash": "3caccfc7412cf25f12168d861dd2d549875ca90ad5f3f97484da5cbaa11972b3"
  },
  "kernelspec": {
   "display_name": "Python 3.8.2 64-bit ('venv': venv)",
   "name": "python3"
  },
  "language_info": {
   "codemirror_mode": {
    "name": "ipython",
    "version": 3
   },
   "file_extension": ".py",
   "mimetype": "text/x-python",
   "name": "python",
   "nbconvert_exporter": "python",
   "pygments_lexer": "ipython3",
   "version": "3.8.2"
  }
 },
 "nbformat": 4,
 "nbformat_minor": 4
}
